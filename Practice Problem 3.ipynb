{
 "cells": [
  {
   "cell_type": "code",
   "execution_count": 9,
   "metadata": {},
   "outputs": [],
   "source": [
    "import pandas as pd\n",
    "\n",
    "filename = 'chicago.csv'\n",
    "\n",
    "# load data file into a dataframe\n",
    "df = pd.read_csv('C:/Users/Vinay/Tutorials/Udacity/Nanodegree/Machine Learning Foundation/1.Introduction to Programming/Project/Practice Problem 1/chicago.csv')\n"
   ]
  },
  {
   "cell_type": "code",
   "execution_count": 18,
   "metadata": {},
   "outputs": [],
   "source": [
    "CITY_DATA = { 'chicago': 'chicago.csv',\n",
    "              'new york city': 'new_york_city.csv',\n",
    "              'washington': 'washington.csv' }\n",
    "\n",
    "def load_data(city, month, day):\n",
    "    \"\"\"\n",
    "    Loads data for the specified city and filters by month and day if applicable.\n",
    "\n",
    "    Args:\n",
    "        (str) city - name of the city to analyze\n",
    "        (str) month - name of the month to filter by, or \"all\" to apply no month filter\n",
    "        (str) day - name of the day of week to filter by, or \"all\" to apply no day filter\n",
    "    Returns:\n",
    "        df - pandas DataFrame containing city data filtered by month and day\n",
    "    \"\"\"\n",
    "    \n",
    "    # load data file into a dataframe\n",
    "    df = pd.read_csv('C:/Users/Vinay/Tutorials/Udacity/Nanodegree/Machine Learning Foundation/1.Introduction to Programming/Project/Practice Problem 1/' + CITY_DATA[city])\n",
    "\n",
    "    # convert the Start Time column to datetime\n",
    "    df['Start Time'] = pd.to_datetime(df['Start Time'])\n",
    "\n",
    "    # extract month and day of week from Start Time to create new columns\n",
    "    df['month'] = df['Start Time'].dt.month\n",
    "    df['day_of_week'] = df['Start Time'].dt.weekday_name\n",
    "\n",
    "\n",
    "    # filter by month if applicable\n",
    "    if month != 'all':\n",
    "        # use the index of the months list to get the corresponding int\n",
    "        months = ['january', 'february', 'march', 'april', 'may', 'june']\n",
    "        month = months.index(month) + 1\n",
    "    \n",
    "        # filter by month to create the new dataframe\n",
    "        df = df[df['month'] == month]\n",
    "\n",
    "    # filter by day of week if applicable\n",
    "    if day != 'all':\n",
    "        # filter by day of week to create the new dataframe\n",
    "        df = df[df['day_of_week'] == day.title()]\n",
    "    \n",
    "    return df"
   ]
  },
  {
   "cell_type": "code",
   "execution_count": 20,
   "metadata": {},
   "outputs": [
    {
     "name": "stdout",
     "output_type": "stream",
     "text": [
      "             Start Time             End Time  Trip Duration  \\\n",
      "40  2017-03-24 13:06:37  2017-03-24 13:10:44            247   \n",
      "59  2017-03-03 07:55:48  2017-03-03 07:57:41            113   \n",
      "68  2017-03-17 12:14:50  2017-03-17 12:22:38            468   \n",
      "75  2017-03-10 13:40:54  2017-03-10 13:45:09            255   \n",
      "83  2017-03-24 14:15:43  2017-03-24 14:27:04            681   \n",
      "126 2017-03-24 12:39:19  2017-03-24 12:52:11            772   \n",
      "224 2017-03-31 19:11:12  2017-03-31 19:18:53            461   \n",
      "247 2017-03-10 08:21:05  2017-03-10 08:23:28            143   \n",
      "290 2017-03-24 10:55:53  2017-03-24 11:01:27            334   \n",
      "343 2017-03-17 17:51:31  2017-03-17 18:00:16            525   \n",
      "348 2017-03-31 07:47:14  2017-03-31 07:55:38            504   \n",
      "\n",
      "                   Start Station                End Station   User Type  \\\n",
      "40         Broadway & Berwyn Ave      Clark St & Berwyn Ave  Subscriber   \n",
      "59        Clark St & Chicago Ave        Wells St & Huron St  Subscriber   \n",
      "68   Dearborn Pkwy & Delaware Pl     State St & Randolph St  Subscriber   \n",
      "75            Clark St & Lake St       Rush St & Hubbard St  Subscriber   \n",
      "83    Sheridan Rd & Lawrence Ave   Broadway & Thorndale Ave  Subscriber   \n",
      "126        Michigan Ave & Oak St  Cannon Dr & Fullerton Ave  Subscriber   \n",
      "224      Damen Ave & Cortland St     Damen Ave & Pierce Ave  Subscriber   \n",
      "247      Damen Ave & Division St  Ashland Ave & Division St  Subscriber   \n",
      "290    Wacker Dr & Washington St  LaSalle St & Jackson Blvd  Subscriber   \n",
      "343    Milwaukee Ave & Grand Ave      State St & Pearson St  Subscriber   \n",
      "348        Canal St & Madison St      Wabash Ave & Adams St  Subscriber   \n",
      "\n",
      "     Gender  Birth Year  month day_of_week  \n",
      "40   Female      1961.0      3      Friday  \n",
      "59     Male      1981.0      3      Friday  \n",
      "68   Female      1984.0      3      Friday  \n",
      "75   Female      1983.0      3      Friday  \n",
      "83     Male      1984.0      3      Friday  \n",
      "126    Male      1993.0      3      Friday  \n",
      "224    Male      1989.0      3      Friday  \n",
      "247    Male      1991.0      3      Friday  \n",
      "290    Male      1961.0      3      Friday  \n",
      "343    Male      1989.0      3      Friday  \n",
      "348    Male      1953.0      3      Friday  \n"
     ]
    }
   ],
   "source": [
    "df = load_data('chicago', 'march', 'friday')\n",
    "print(df)"
   ]
  },
  {
   "cell_type": "code",
   "execution_count": null,
   "metadata": {},
   "outputs": [],
   "source": []
  }
 ],
 "metadata": {
  "kernelspec": {
   "display_name": "Python 3",
   "language": "python",
   "name": "python3"
  },
  "language_info": {
   "codemirror_mode": {
    "name": "ipython",
    "version": 3
   },
   "file_extension": ".py",
   "mimetype": "text/x-python",
   "name": "python",
   "nbconvert_exporter": "python",
   "pygments_lexer": "ipython3",
   "version": "3.7.1"
  }
 },
 "nbformat": 4,
 "nbformat_minor": 2
}
