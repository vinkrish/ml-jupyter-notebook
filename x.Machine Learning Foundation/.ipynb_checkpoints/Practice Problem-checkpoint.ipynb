{
 "cells": [
  {
   "cell_type": "code",
   "execution_count": 2,
   "metadata": {},
   "outputs": [],
   "source": [
    "import pandas as pd\n",
    "\n",
    "filename = 'chicago.csv'\n",
    "\n",
    "# load data file into a dataframe\n",
    "df = pd.read_csv('../data/chicago.csv')"
   ]
  },
  {
   "cell_type": "code",
   "execution_count": 3,
   "metadata": {},
   "outputs": [
    {
     "data": {
      "text/plain": [
       "0    2017-05-29 18:36:27\n",
       "1    2017-06-12 19:00:33\n",
       "2    2017-02-13 17:02:02\n",
       "3    2017-04-24 18:39:45\n",
       "4    2017-01-26 15:36:07\n",
       "Name: Start Time, dtype: object"
      ]
     },
     "execution_count": 3,
     "metadata": {},
     "output_type": "execute_result"
    }
   ],
   "source": [
    "df['Start Time'].head()"
   ]
  },
  {
   "cell_type": "code",
   "execution_count": 5,
   "metadata": {},
   "outputs": [
    {
     "data": {
      "text/plain": [
       "0    2017-05-29\n",
       "1    2017-06-12\n",
       "2    2017-02-13\n",
       "3    2017-04-24\n",
       "4    2017-01-26\n",
       "Name: Start Time, dtype: object"
      ]
     },
     "execution_count": 5,
     "metadata": {},
     "output_type": "execute_result"
    }
   ],
   "source": [
    "# convert the Start Time column to datetime\n",
    "df['Start Time'] = pd.to_datetime(df['Start Time'])\n",
    "df['Start Time'].dt.date.head()"
   ]
  },
  {
   "cell_type": "code",
   "execution_count": 6,
   "metadata": {},
   "outputs": [
    {
     "data": {
      "text/plain": [
       "0    18:36:27\n",
       "1    19:00:33\n",
       "2    17:02:02\n",
       "3    18:39:45\n",
       "4    15:36:07\n",
       "Name: Start Time, dtype: object"
      ]
     },
     "execution_count": 6,
     "metadata": {},
     "output_type": "execute_result"
    }
   ],
   "source": [
    "df['Start Time'].dt.time.head()"
   ]
  },
  {
   "cell_type": "code",
   "execution_count": 7,
   "metadata": {},
   "outputs": [
    {
     "data": {
      "text/plain": [
       "0    18\n",
       "1    19\n",
       "2    17\n",
       "3    18\n",
       "4    15\n",
       "Name: hour, dtype: int64"
      ]
     },
     "execution_count": 7,
     "metadata": {},
     "output_type": "execute_result"
    }
   ],
   "source": [
    "# extract hour from the Start Time column to create an hour column\n",
    "df['hour'] = df['Start Time'].dt.hour\n",
    "df['hour'].head()"
   ]
  },
  {
   "cell_type": "code",
   "execution_count": 8,
   "metadata": {},
   "outputs": [
    {
     "name": "stdout",
     "output_type": "stream",
     "text": [
      "0    17\n",
      "dtype: int64\n",
      "17\n"
     ]
    }
   ],
   "source": [
    "# find the most popular hour\n",
    "print(df['hour'].mode())\n",
    "popular_hour = df['hour'].mode()[0]\n",
    "print(popular_hour)"
   ]
  },
  {
   "cell_type": "code",
   "execution_count": 9,
   "metadata": {},
   "outputs": [
    {
     "name": "stdout",
     "output_type": "stream",
     "text": [
      "\n",
      "    hour  count\n",
      "0      0      4\n",
      "1      5      2\n",
      "2      6     14\n",
      "3      7     23\n",
      "4      8     22\n",
      "5      9     20\n",
      "6     10     16\n",
      "7     11     19\n",
      "8     12     31\n",
      "9     13     26\n",
      "10    14     21\n",
      "11    15     25\n",
      "12    16     29\n",
      "13    17     53\n",
      "14    18     36\n",
      "15    19     26\n",
      "16    20     11\n",
      "17    21     11\n",
      "18    22      7\n",
      "19    23      4\n",
      "\n",
      "13\n",
      "\n",
      "hour     17\n",
      "count    53\n",
      "Name: 13, dtype: int64\n",
      "\n",
      "Most Frequent Start Hour: 17\n"
     ]
    }
   ],
   "source": [
    "# find the most common hour (from 0 to 23)\n",
    "popular_hour = df.groupby(['hour']).size().reset_index(name='count')\n",
    "print()\n",
    "print(popular_hour)\n",
    "print()\n",
    "print(popular_hour['count'].idxmax())\n",
    "print()\n",
    "print(popular_hour.loc[popular_hour['count'].idxmax()])\n",
    "print()\n",
    "print('Most Frequent Start Hour:', popular_hour.loc[popular_hour['count'].idxmax()].hour)"
   ]
  },
  {
   "cell_type": "code",
   "execution_count": 16,
   "metadata": {},
   "outputs": [],
   "source": [
    "CITY_DATA = { 'chicago': 'chicago.csv',\n",
    "              'new york city': 'new_york_city.csv',\n",
    "              'washington': 'washington.csv' }\n",
    "\n",
    "def load_data(city, month, day):    \n",
    "    # load data file into a dataframe\n",
    "    df = pd.read_csv('data/' + CITY_DATA[city])\n",
    "\n",
    "    # convert the Start Time column to datetime\n",
    "    df['Start Time'] = pd.to_datetime(df['Start Time'])\n",
    "\n",
    "    # extract month and day of week from Start Time to create new columns\n",
    "    df['month'] = df['Start Time'].dt.month\n",
    "    df['day_of_week'] = df['Start Time'].dt.weekday_name\n",
    "\n",
    "\n",
    "    # filter by month if applicable\n",
    "    if month != 'all':\n",
    "        # use the index of the months list to get the corresponding int\n",
    "        months = ['january', 'february', 'march', 'april', 'may', 'june']\n",
    "        month = months.index(month) + 1\n",
    "    \n",
    "        # filter by month to create the new dataframe\n",
    "        df = df[df['month'] == month]\n",
    "\n",
    "    # filter by day of week if applicable\n",
    "    if day != 'all':\n",
    "        # filter by day of week to create the new dataframe\n",
    "        df = df[df['day_of_week'] == day.title()]\n",
    "    \n",
    "    return df"
   ]
  },
  {
   "cell_type": "code",
   "execution_count": 13,
   "metadata": {},
   "outputs": [
    {
     "data": {
      "text/html": [
       "<div>\n",
       "<style scoped>\n",
       "    .dataframe tbody tr th:only-of-type {\n",
       "        vertical-align: middle;\n",
       "    }\n",
       "\n",
       "    .dataframe tbody tr th {\n",
       "        vertical-align: top;\n",
       "    }\n",
       "\n",
       "    .dataframe thead th {\n",
       "        text-align: right;\n",
       "    }\n",
       "</style>\n",
       "<table border=\"1\" class=\"dataframe\">\n",
       "  <thead>\n",
       "    <tr style=\"text-align: right;\">\n",
       "      <th></th>\n",
       "      <th>Start Time</th>\n",
       "      <th>End Time</th>\n",
       "      <th>Trip Duration</th>\n",
       "      <th>Start Station</th>\n",
       "      <th>End Station</th>\n",
       "      <th>User Type</th>\n",
       "      <th>Gender</th>\n",
       "      <th>Birth Year</th>\n",
       "      <th>month</th>\n",
       "      <th>day_of_week</th>\n",
       "    </tr>\n",
       "  </thead>\n",
       "  <tbody>\n",
       "    <tr>\n",
       "      <th>40</th>\n",
       "      <td>2017-03-24 13:06:37</td>\n",
       "      <td>2017-03-24 13:10:44</td>\n",
       "      <td>247</td>\n",
       "      <td>Broadway &amp; Berwyn Ave</td>\n",
       "      <td>Clark St &amp; Berwyn Ave</td>\n",
       "      <td>Subscriber</td>\n",
       "      <td>Female</td>\n",
       "      <td>1961.0</td>\n",
       "      <td>3</td>\n",
       "      <td>Friday</td>\n",
       "    </tr>\n",
       "    <tr>\n",
       "      <th>59</th>\n",
       "      <td>2017-03-03 07:55:48</td>\n",
       "      <td>2017-03-03 07:57:41</td>\n",
       "      <td>113</td>\n",
       "      <td>Clark St &amp; Chicago Ave</td>\n",
       "      <td>Wells St &amp; Huron St</td>\n",
       "      <td>Subscriber</td>\n",
       "      <td>Male</td>\n",
       "      <td>1981.0</td>\n",
       "      <td>3</td>\n",
       "      <td>Friday</td>\n",
       "    </tr>\n",
       "    <tr>\n",
       "      <th>68</th>\n",
       "      <td>2017-03-17 12:14:50</td>\n",
       "      <td>2017-03-17 12:22:38</td>\n",
       "      <td>468</td>\n",
       "      <td>Dearborn Pkwy &amp; Delaware Pl</td>\n",
       "      <td>State St &amp; Randolph St</td>\n",
       "      <td>Subscriber</td>\n",
       "      <td>Female</td>\n",
       "      <td>1984.0</td>\n",
       "      <td>3</td>\n",
       "      <td>Friday</td>\n",
       "    </tr>\n",
       "    <tr>\n",
       "      <th>75</th>\n",
       "      <td>2017-03-10 13:40:54</td>\n",
       "      <td>2017-03-10 13:45:09</td>\n",
       "      <td>255</td>\n",
       "      <td>Clark St &amp; Lake St</td>\n",
       "      <td>Rush St &amp; Hubbard St</td>\n",
       "      <td>Subscriber</td>\n",
       "      <td>Female</td>\n",
       "      <td>1983.0</td>\n",
       "      <td>3</td>\n",
       "      <td>Friday</td>\n",
       "    </tr>\n",
       "    <tr>\n",
       "      <th>83</th>\n",
       "      <td>2017-03-24 14:15:43</td>\n",
       "      <td>2017-03-24 14:27:04</td>\n",
       "      <td>681</td>\n",
       "      <td>Sheridan Rd &amp; Lawrence Ave</td>\n",
       "      <td>Broadway &amp; Thorndale Ave</td>\n",
       "      <td>Subscriber</td>\n",
       "      <td>Male</td>\n",
       "      <td>1984.0</td>\n",
       "      <td>3</td>\n",
       "      <td>Friday</td>\n",
       "    </tr>\n",
       "    <tr>\n",
       "      <th>126</th>\n",
       "      <td>2017-03-24 12:39:19</td>\n",
       "      <td>2017-03-24 12:52:11</td>\n",
       "      <td>772</td>\n",
       "      <td>Michigan Ave &amp; Oak St</td>\n",
       "      <td>Cannon Dr &amp; Fullerton Ave</td>\n",
       "      <td>Subscriber</td>\n",
       "      <td>Male</td>\n",
       "      <td>1993.0</td>\n",
       "      <td>3</td>\n",
       "      <td>Friday</td>\n",
       "    </tr>\n",
       "    <tr>\n",
       "      <th>224</th>\n",
       "      <td>2017-03-31 19:11:12</td>\n",
       "      <td>2017-03-31 19:18:53</td>\n",
       "      <td>461</td>\n",
       "      <td>Damen Ave &amp; Cortland St</td>\n",
       "      <td>Damen Ave &amp; Pierce Ave</td>\n",
       "      <td>Subscriber</td>\n",
       "      <td>Male</td>\n",
       "      <td>1989.0</td>\n",
       "      <td>3</td>\n",
       "      <td>Friday</td>\n",
       "    </tr>\n",
       "    <tr>\n",
       "      <th>247</th>\n",
       "      <td>2017-03-10 08:21:05</td>\n",
       "      <td>2017-03-10 08:23:28</td>\n",
       "      <td>143</td>\n",
       "      <td>Damen Ave &amp; Division St</td>\n",
       "      <td>Ashland Ave &amp; Division St</td>\n",
       "      <td>Subscriber</td>\n",
       "      <td>Male</td>\n",
       "      <td>1991.0</td>\n",
       "      <td>3</td>\n",
       "      <td>Friday</td>\n",
       "    </tr>\n",
       "    <tr>\n",
       "      <th>290</th>\n",
       "      <td>2017-03-24 10:55:53</td>\n",
       "      <td>2017-03-24 11:01:27</td>\n",
       "      <td>334</td>\n",
       "      <td>Wacker Dr &amp; Washington St</td>\n",
       "      <td>LaSalle St &amp; Jackson Blvd</td>\n",
       "      <td>Subscriber</td>\n",
       "      <td>Male</td>\n",
       "      <td>1961.0</td>\n",
       "      <td>3</td>\n",
       "      <td>Friday</td>\n",
       "    </tr>\n",
       "    <tr>\n",
       "      <th>343</th>\n",
       "      <td>2017-03-17 17:51:31</td>\n",
       "      <td>2017-03-17 18:00:16</td>\n",
       "      <td>525</td>\n",
       "      <td>Milwaukee Ave &amp; Grand Ave</td>\n",
       "      <td>State St &amp; Pearson St</td>\n",
       "      <td>Subscriber</td>\n",
       "      <td>Male</td>\n",
       "      <td>1989.0</td>\n",
       "      <td>3</td>\n",
       "      <td>Friday</td>\n",
       "    </tr>\n",
       "    <tr>\n",
       "      <th>348</th>\n",
       "      <td>2017-03-31 07:47:14</td>\n",
       "      <td>2017-03-31 07:55:38</td>\n",
       "      <td>504</td>\n",
       "      <td>Canal St &amp; Madison St</td>\n",
       "      <td>Wabash Ave &amp; Adams St</td>\n",
       "      <td>Subscriber</td>\n",
       "      <td>Male</td>\n",
       "      <td>1953.0</td>\n",
       "      <td>3</td>\n",
       "      <td>Friday</td>\n",
       "    </tr>\n",
       "  </tbody>\n",
       "</table>\n",
       "</div>"
      ],
      "text/plain": [
       "             Start Time             End Time  Trip Duration  \\\n",
       "40  2017-03-24 13:06:37  2017-03-24 13:10:44            247   \n",
       "59  2017-03-03 07:55:48  2017-03-03 07:57:41            113   \n",
       "68  2017-03-17 12:14:50  2017-03-17 12:22:38            468   \n",
       "75  2017-03-10 13:40:54  2017-03-10 13:45:09            255   \n",
       "83  2017-03-24 14:15:43  2017-03-24 14:27:04            681   \n",
       "126 2017-03-24 12:39:19  2017-03-24 12:52:11            772   \n",
       "224 2017-03-31 19:11:12  2017-03-31 19:18:53            461   \n",
       "247 2017-03-10 08:21:05  2017-03-10 08:23:28            143   \n",
       "290 2017-03-24 10:55:53  2017-03-24 11:01:27            334   \n",
       "343 2017-03-17 17:51:31  2017-03-17 18:00:16            525   \n",
       "348 2017-03-31 07:47:14  2017-03-31 07:55:38            504   \n",
       "\n",
       "                   Start Station                End Station   User Type  \\\n",
       "40         Broadway & Berwyn Ave      Clark St & Berwyn Ave  Subscriber   \n",
       "59        Clark St & Chicago Ave        Wells St & Huron St  Subscriber   \n",
       "68   Dearborn Pkwy & Delaware Pl     State St & Randolph St  Subscriber   \n",
       "75            Clark St & Lake St       Rush St & Hubbard St  Subscriber   \n",
       "83    Sheridan Rd & Lawrence Ave   Broadway & Thorndale Ave  Subscriber   \n",
       "126        Michigan Ave & Oak St  Cannon Dr & Fullerton Ave  Subscriber   \n",
       "224      Damen Ave & Cortland St     Damen Ave & Pierce Ave  Subscriber   \n",
       "247      Damen Ave & Division St  Ashland Ave & Division St  Subscriber   \n",
       "290    Wacker Dr & Washington St  LaSalle St & Jackson Blvd  Subscriber   \n",
       "343    Milwaukee Ave & Grand Ave      State St & Pearson St  Subscriber   \n",
       "348        Canal St & Madison St      Wabash Ave & Adams St  Subscriber   \n",
       "\n",
       "     Gender  Birth Year  month day_of_week  \n",
       "40   Female      1961.0      3      Friday  \n",
       "59     Male      1981.0      3      Friday  \n",
       "68   Female      1984.0      3      Friday  \n",
       "75   Female      1983.0      3      Friday  \n",
       "83     Male      1984.0      3      Friday  \n",
       "126    Male      1993.0      3      Friday  \n",
       "224    Male      1989.0      3      Friday  \n",
       "247    Male      1991.0      3      Friday  \n",
       "290    Male      1961.0      3      Friday  \n",
       "343    Male      1989.0      3      Friday  \n",
       "348    Male      1953.0      3      Friday  "
      ]
     },
     "execution_count": 13,
     "metadata": {},
     "output_type": "execute_result"
    }
   ],
   "source": [
    "load_data('chicago', 'march', 'friday')"
   ]
  },
  {
   "cell_type": "code",
   "execution_count": null,
   "metadata": {},
   "outputs": [],
   "source": []
  }
 ],
 "metadata": {
  "kernelspec": {
   "display_name": "Python 3",
   "language": "python",
   "name": "python3"
  },
  "language_info": {
   "codemirror_mode": {
    "name": "ipython",
    "version": 3
   },
   "file_extension": ".py",
   "mimetype": "text/x-python",
   "name": "python",
   "nbconvert_exporter": "python",
   "pygments_lexer": "ipython3",
   "version": "3.7.1"
  }
 },
 "nbformat": 4,
 "nbformat_minor": 2
}
